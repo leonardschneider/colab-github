{
  "cells": [
    {
      "cell_type": "code",
      "execution_count": null,
      "metadata": {
        "id": "9qCltNZ7OSRV"
      },
      "outputs": [],
      "source": [
        "!wget -q https://raw.githubusercontent.com/leonardschneider/colab-github/main/colab_github.py\n",
        "import colab_github\n",
        "colab_github.github_auth(persistent_key=True)"
      ]
    },
    {
      "cell_type": "code",
      "execution_count": null,
      "metadata": {
        "id": "1EUW-KJArFze"
      },
      "outputs": [],
      "source": [
        "your_private_repo = \"leonardschneider/colab-github\" #@param {\"type\": \"string\"}\n",
        "\n",
        "addr = f\"git@github.com:{your_private_repo}.git\"\n",
        "!git clone $addr"
      ]
    }
  ],
  "metadata": {
    "colab": {
      "provenance": []
    },
    "gpuClass": "standard",
    "kernelspec": {
      "display_name": "venv",
      "language": "python",
      "name": "python3"
    },
    "language_info": {
      "name": "python",
      "version": "3.9.12 (main, Apr  4 2022, 05:22:27) [MSC v.1916 64 bit (AMD64)]"
    },
    "vscode": {
      "interpreter": {
        "hash": "6a5abbe8acaab69aeb9341d33e3d393085ae61ee420dbe3c4c005ed104603983"
      }
    }
  },
  "nbformat": 4,
  "nbformat_minor": 0
}
